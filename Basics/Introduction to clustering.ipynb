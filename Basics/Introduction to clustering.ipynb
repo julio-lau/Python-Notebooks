{
 "cells": [
  {
   "cell_type": "code",
   "execution_count": 11,
   "metadata": {},
   "outputs": [],
   "source": [
    "from sklearn.cluster import KMeans\n",
    "from sklearn.feature_extraction.text import TfidfVectorizer\n",
    "import sklearn.datasets\n",
    "import nltk\n",
    "import nltk.stem"
   ]
  },
  {
   "cell_type": "markdown",
   "metadata": {},
   "source": [
    "# 20 newsgroup dataset"
   ]
  },
  {
   "cell_type": "markdown",
   "metadata": {},
   "source": [
    "## Load dataset"
   ]
  },
  {
   "cell_type": "code",
   "execution_count": 4,
   "metadata": {},
   "outputs": [],
   "source": [
    "groups = ['comp.graphics', 'comp.os.ms-windows.misc', 'comp.sys.ibm.pc.hardware', 'comp.sys.mac.hardware', 'comp.windows.x', 'sci.space']\n",
    "trainData = sklearn.datasets.fetch_20newsgroups(subset = 'train', categories = groups)"
   ]
  },
  {
   "cell_type": "markdown",
   "metadata": {},
   "source": [
    "## Define encoder"
   ]
  },
  {
   "cell_type": "code",
   "execution_count": 17,
   "metadata": {},
   "outputs": [],
   "source": [
    "stemmer = nltk.stem.SnowballStemmer('english')\n",
    "\n",
    "class StemmedTfidfVectorizer(TfidfVectorizer):\n",
    "    def build_analyzer(self):\n",
    "        analyzer = super(StemmedTfidfVectorizer, self).build_analyzer()\n",
    "        return lambda doc: (stemmer.stem(word) for word in analyzer(doc))\n",
    "\n",
    "vectorizer = StemmedTfidfVectorizer(min_df=10, max_df=0.5, stop_words='english')\n",
    "dataVectors = vectorizer.fit_transform(trainData['data'])\n",
    "dataVectors.shape"
   ]
  },
  {
   "cell_type": "markdown",
   "metadata": {},
   "source": [
    "## Define similarity measure"
   ]
  },
  {
   "cell_type": "code",
   "execution_count": null,
   "metadata": {},
   "outputs": [],
   "source": []
  },
  {
   "cell_type": "markdown",
   "metadata": {},
   "source": [
    "## Modelling with KMeans"
   ]
  },
  {
   "cell_type": "code",
   "execution_count": 19,
   "metadata": {},
   "outputs": [
    {
     "name": "stdout",
     "output_type": "stream",
     "text": [
      "Initialization complete\n",
      "Iteration 0, inertia 5921.767135688507\n",
      "Iteration 1, inertia 3215.062227225114\n",
      "Iteration 2, inertia 3172.2057626828664\n",
      "Iteration 3, inertia 3149.5092642419786\n",
      "Iteration 4, inertia 3138.939692352874\n",
      "Iteration 5, inertia 3133.0219739385493\n",
      "Iteration 6, inertia 3128.7663891691113\n",
      "Iteration 7, inertia 3126.3121061730603\n",
      "Iteration 8, inertia 3124.2389798743498\n",
      "Iteration 9, inertia 3122.91414161452\n",
      "Iteration 10, inertia 3122.0468986096666\n",
      "Iteration 11, inertia 3121.0291502614177\n",
      "Iteration 12, inertia 3120.268315617974\n",
      "Iteration 13, inertia 3119.629648173989\n",
      "Iteration 14, inertia 3118.7314949308816\n",
      "Iteration 15, inertia 3117.6938513811233\n",
      "Iteration 16, inertia 3116.56076727272\n",
      "Iteration 17, inertia 3115.7329367721827\n",
      "Iteration 18, inertia 3115.104392966361\n",
      "Iteration 19, inertia 3114.0296674374285\n",
      "Iteration 20, inertia 3112.9785773058657\n",
      "Iteration 21, inertia 3112.4791160034565\n",
      "Iteration 22, inertia 3112.1024944561605\n",
      "Iteration 23, inertia 3111.350355611858\n",
      "Iteration 24, inertia 3110.793892502615\n",
      "Iteration 25, inertia 3110.429802576874\n",
      "Iteration 26, inertia 3110.079553023827\n",
      "Iteration 27, inertia 3109.528816602607\n",
      "Iteration 28, inertia 3109.0555449989297\n",
      "Iteration 29, inertia 3108.506831114529\n",
      "Iteration 30, inertia 3107.857140735985\n",
      "Iteration 31, inertia 3107.087950569668\n",
      "Iteration 32, inertia 3106.4142966083214\n",
      "Iteration 33, inertia 3105.3911119874842\n",
      "Iteration 34, inertia 3103.905164030381\n",
      "Iteration 35, inertia 3103.534279864947\n",
      "Iteration 36, inertia 3103.4904579089434\n",
      "Iteration 37, inertia 3103.434530666023\n",
      "Converged at iteration 37: strict convergence.\n"
     ]
    },
    {
     "data": {
      "text/plain": [
       "KMeans(init='random', n_clusters=50, n_init=1, verbose=1)"
      ]
     },
     "execution_count": 19,
     "metadata": {},
     "output_type": "execute_result"
    }
   ],
   "source": [
    "nClusters = 50\n",
    "km = KMeans(n_clusters=nClusters, init='random', n_init=1, verbose=1)\n",
    "km.fit(dataVectors)"
   ]
  },
  {
   "cell_type": "code",
   "execution_count": 20,
   "metadata": {},
   "outputs": [
    {
     "data": {
      "text/plain": [
       "array([25, 33, 13, ..., 42, 21,  0])"
      ]
     },
     "execution_count": 20,
     "metadata": {},
     "output_type": "execute_result"
    }
   ],
   "source": [
    "km.labels_"
   ]
  },
  {
   "cell_type": "code",
   "execution_count": 21,
   "metadata": {},
   "outputs": [
    {
     "data": {
      "text/plain": [
       "array([[0.        , 0.        , 0.00194577, ..., 0.        , 0.        ,\n",
       "        0.        ],\n",
       "       [0.00421971, 0.00118877, 0.00034221, ..., 0.00070723, 0.        ,\n",
       "        0.00097567],\n",
       "       [0.00696256, 0.        , 0.        , ..., 0.        , 0.        ,\n",
       "        0.        ],\n",
       "       ...,\n",
       "       [0.00219239, 0.        , 0.        , ..., 0.        , 0.        ,\n",
       "        0.        ],\n",
       "       [0.01232016, 0.0012089 , 0.00212849, ..., 0.00030275, 0.        ,\n",
       "        0.        ],\n",
       "       [0.        , 0.        , 0.        , ..., 0.        , 0.        ,\n",
       "        0.        ]])"
      ]
     },
     "execution_count": 21,
     "metadata": {},
     "output_type": "execute_result"
    }
   ],
   "source": [
    "km.cluster_centers_"
   ]
  },
  {
   "cell_type": "markdown",
   "metadata": {},
   "source": [
    "## Testing with KMeans"
   ]
  },
  {
   "cell_type": "code",
   "execution_count": 24,
   "metadata": {},
   "outputs": [
    {
     "data": {
      "text/plain": [
       "5"
      ]
     },
     "execution_count": 24,
     "metadata": {},
     "output_type": "execute_result"
    }
   ],
   "source": [
    "testText = 'Disk drive problems. Hi, I have a problem with my hard disk. After 1 year it is working only sporadically now. I tried to format it, but now it doesn\\'t boot any more. Any ideas? Thanks.'\n",
    "newDataVector = vectorizer.transform([testText])\n",
    "newDataLabel = km.predict(newDataVector)[0]\n",
    "newDataLabel"
   ]
  },
  {
   "cell_type": "code",
   "execution_count": 34,
   "metadata": {},
   "outputs": [],
   "source": [
    "clusterItems = (km.labels_ == newDataLabel).nonzero()[0]"
   ]
  }
 ],
 "metadata": {
  "kernelspec": {
   "display_name": "Python 3",
   "language": "python",
   "name": "python3"
  },
  "language_info": {
   "codemirror_mode": {
    "name": "ipython",
    "version": 3
   },
   "file_extension": ".py",
   "mimetype": "text/x-python",
   "name": "python",
   "nbconvert_exporter": "python",
   "pygments_lexer": "ipython3",
   "version": "3.8.5"
  }
 },
 "nbformat": 4,
 "nbformat_minor": 4
}
