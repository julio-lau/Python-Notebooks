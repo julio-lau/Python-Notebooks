{
 "cells": [
  {
   "cell_type": "markdown",
   "metadata": {
    "id": "sfaIHzhISXJ-"
   },
   "source": [
    "# Numpy"
   ]
  },
  {
   "cell_type": "code",
   "execution_count": 1,
   "metadata": {
    "colab": {
     "base_uri": "https://localhost:8080/",
     "height": 36
    },
    "executionInfo": {
     "elapsed": 369,
     "status": "ok",
     "timestamp": 1626573545601,
     "user": {
      "displayName": "Julio Lau",
      "photoUrl": "https://lh3.googleusercontent.com/a-/AOh14GgCiPhI0rdNtVQNITYluHTI0kUk2eO-SRKB2NOgHQ=s64",
      "userId": "00048580349615221089"
     },
     "user_tz": 300
    },
    "id": "_f1cxQRLJE67",
    "outputId": "cd044234-1ffc-4d07-8f73-6ce96b982c9f"
   },
   "outputs": [
    {
     "data": {
      "text/plain": [
       "'1.19.2'"
      ]
     },
     "execution_count": 1,
     "metadata": {},
     "output_type": "execute_result"
    }
   ],
   "source": [
    "import numpy as np\n",
    "np.version.full_version"
   ]
  },
  {
   "cell_type": "markdown",
   "metadata": {
    "id": "q9sTJt23JE7N"
   },
   "source": [
    "## Intro"
   ]
  },
  {
   "cell_type": "code",
   "execution_count": 2,
   "metadata": {
    "colab": {
     "base_uri": "https://localhost:8080/"
    },
    "executionInfo": {
     "elapsed": 46,
     "status": "ok",
     "timestamp": 1626573546014,
     "user": {
      "displayName": "Julio Lau",
      "photoUrl": "https://lh3.googleusercontent.com/a-/AOh14GgCiPhI0rdNtVQNITYluHTI0kUk2eO-SRKB2NOgHQ=s64",
      "userId": "00048580349615221089"
     },
     "user_tz": 300
    },
    "id": "6N7tX2P_JE7R",
    "outputId": "049b836b-c803-4517-83a3-a67b4282376c"
   },
   "outputs": [
    {
     "name": "stdout",
     "output_type": "stream",
     "text": [
      "Array: [0 1 2 3 4 5]\n",
      "Dimensions: 1\n",
      "Shape: (6,)\n",
      "Type: int32\n"
     ]
    }
   ],
   "source": [
    "a = np.array([0, 1, 2, 3, 4, 5])\n",
    "print(f'Array: {a}')\n",
    "print(f'Dimensions: {a.ndim}')\n",
    "print(f'Shape: {a.shape}')\n",
    "print(f'Type: {a.dtype}')"
   ]
  },
  {
   "cell_type": "markdown",
   "metadata": {
    "id": "2VB7iB4uJE7U"
   },
   "source": [
    "## Reshape"
   ]
  },
  {
   "cell_type": "code",
   "execution_count": 3,
   "metadata": {
    "colab": {
     "base_uri": "https://localhost:8080/"
    },
    "executionInfo": {
     "elapsed": 37,
     "status": "ok",
     "timestamp": 1626573546016,
     "user": {
      "displayName": "Julio Lau",
      "photoUrl": "https://lh3.googleusercontent.com/a-/AOh14GgCiPhI0rdNtVQNITYluHTI0kUk2eO-SRKB2NOgHQ=s64",
      "userId": "00048580349615221089"
     },
     "user_tz": 300
    },
    "id": "Ode3aJSrJE7V",
    "outputId": "571f3197-bec9-499b-c4fe-d9d50106472e"
   },
   "outputs": [
    {
     "name": "stdout",
     "output_type": "stream",
     "text": [
      "Array: [[0 1]\n",
      " [2 3]\n",
      " [4 5]]\n",
      "Dimensions: 2\n",
      "Shape: (3, 2)\n"
     ]
    }
   ],
   "source": [
    "b = a.reshape((3, 2))\n",
    "print(f'Array: {b}')\n",
    "print(f'Dimensions: {b.ndim}')\n",
    "print(f'Shape: {b.shape}')"
   ]
  },
  {
   "cell_type": "code",
   "execution_count": 4,
   "metadata": {
    "colab": {
     "base_uri": "https://localhost:8080/"
    },
    "executionInfo": {
     "elapsed": 34,
     "status": "ok",
     "timestamp": 1626573546018,
     "user": {
      "displayName": "Julio Lau",
      "photoUrl": "https://lh3.googleusercontent.com/a-/AOh14GgCiPhI0rdNtVQNITYluHTI0kUk2eO-SRKB2NOgHQ=s64",
      "userId": "00048580349615221089"
     },
     "user_tz": 300
    },
    "id": "fksKH-8GJE7Y",
    "outputId": "36905588-c311-471c-e8b8-7dfe878d97d7"
   },
   "outputs": [
    {
     "name": "stdout",
     "output_type": "stream",
     "text": [
      "Array b: [[  0   1]\n",
      " [108   3]\n",
      " [  4   5]]\n",
      "\n",
      "Array a: [  0   1 108   3   4   5]\n"
     ]
    }
   ],
   "source": [
    "#b & a reference to the same array\n",
    "b[1][0] = 108\n",
    "print(f'Array b: {b}')\n",
    "print()\n",
    "print(f'Array a: {a}')"
   ]
  },
  {
   "cell_type": "code",
   "execution_count": 5,
   "metadata": {
    "colab": {
     "base_uri": "https://localhost:8080/"
    },
    "executionInfo": {
     "elapsed": 32,
     "status": "ok",
     "timestamp": 1626573546021,
     "user": {
      "displayName": "Julio Lau",
      "photoUrl": "https://lh3.googleusercontent.com/a-/AOh14GgCiPhI0rdNtVQNITYluHTI0kUk2eO-SRKB2NOgHQ=s64",
      "userId": "00048580349615221089"
     },
     "user_tz": 300
    },
    "id": "44awDyWEJE7b",
    "outputId": "c303fc5b-f38a-4bf1-8093-ba424892ba4e"
   },
   "outputs": [
    {
     "name": "stdout",
     "output_type": "stream",
     "text": [
      "Array b: [[ 0  1]\n",
      " [12  3]\n",
      " [ 4  5]]\n",
      "\n",
      "Array a: [  0   1 108   3   4   5]\n"
     ]
    }
   ],
   "source": [
    "#Copy method makes a new copy (doesn't reference to the same array)\n",
    "c = a.reshape((3, 2)).copy()\n",
    "c[1][0] = 12\n",
    "print(f'Array b: {c}')\n",
    "print()\n",
    "print(f'Array a: {a}')"
   ]
  },
  {
   "cell_type": "markdown",
   "metadata": {
    "id": "MmR4TH-4JHyE"
   },
   "source": [
    "## Arithmetic Operations"
   ]
  },
  {
   "cell_type": "code",
   "execution_count": 6,
   "metadata": {
    "colab": {
     "base_uri": "https://localhost:8080/"
    },
    "executionInfo": {
     "elapsed": 31,
     "status": "ok",
     "timestamp": 1626573546023,
     "user": {
      "displayName": "Julio Lau",
      "photoUrl": "https://lh3.googleusercontent.com/a-/AOh14GgCiPhI0rdNtVQNITYluHTI0kUk2eO-SRKB2NOgHQ=s64",
      "userId": "00048580349615221089"
     },
     "user_tz": 300
    },
    "id": "98cADZDGJE7d",
    "outputId": "d2966d37-e1cd-49fe-d4ba-d04f1736f38f"
   },
   "outputs": [
    {
     "data": {
      "text/plain": [
       "array([  0,   2, 216,   6,   8,  10])"
      ]
     },
     "execution_count": 6,
     "metadata": {},
     "output_type": "execute_result"
    }
   ],
   "source": [
    "a*2"
   ]
  },
  {
   "cell_type": "code",
   "execution_count": 7,
   "metadata": {
    "colab": {
     "base_uri": "https://localhost:8080/"
    },
    "executionInfo": {
     "elapsed": 29,
     "status": "ok",
     "timestamp": 1626573546025,
     "user": {
      "displayName": "Julio Lau",
      "photoUrl": "https://lh3.googleusercontent.com/a-/AOh14GgCiPhI0rdNtVQNITYluHTI0kUk2eO-SRKB2NOgHQ=s64",
      "userId": "00048580349615221089"
     },
     "user_tz": 300
    },
    "id": "LCN4w3qJJPel",
    "outputId": "eabc3f40-9a7f-4a4f-99fd-68df5e6b82b0"
   },
   "outputs": [
    {
     "data": {
      "text/plain": [
       "array([ -2,  -1, 106,   1,   2,   3])"
      ]
     },
     "execution_count": 7,
     "metadata": {},
     "output_type": "execute_result"
    }
   ],
   "source": [
    "a-2"
   ]
  },
  {
   "cell_type": "markdown",
   "metadata": {
    "id": "hrkBkwG5JT6L"
   },
   "source": [
    "## Indexing"
   ]
  },
  {
   "cell_type": "code",
   "execution_count": 8,
   "metadata": {
    "colab": {
     "base_uri": "https://localhost:8080/"
    },
    "executionInfo": {
     "elapsed": 632,
     "status": "ok",
     "timestamp": 1626573546632,
     "user": {
      "displayName": "Julio Lau",
      "photoUrl": "https://lh3.googleusercontent.com/a-/AOh14GgCiPhI0rdNtVQNITYluHTI0kUk2eO-SRKB2NOgHQ=s64",
      "userId": "00048580349615221089"
     },
     "user_tz": 300
    },
    "id": "xD_R4H4SJQBa",
    "outputId": "8f8d9f17-1486-422e-ccd2-b6cdbd78985e"
   },
   "outputs": [
    {
     "data": {
      "text/plain": [
       "array([108,   3,   4])"
      ]
     },
     "execution_count": 8,
     "metadata": {},
     "output_type": "execute_result"
    }
   ],
   "source": [
    "a[[2,3,4]]"
   ]
  },
  {
   "cell_type": "code",
   "execution_count": 9,
   "metadata": {
    "colab": {
     "base_uri": "https://localhost:8080/"
    },
    "executionInfo": {
     "elapsed": 46,
     "status": "ok",
     "timestamp": 1626573546634,
     "user": {
      "displayName": "Julio Lau",
      "photoUrl": "https://lh3.googleusercontent.com/a-/AOh14GgCiPhI0rdNtVQNITYluHTI0kUk2eO-SRKB2NOgHQ=s64",
      "userId": "00048580349615221089"
     },
     "user_tz": 300
    },
    "id": "6fVAwnKvJWiY",
    "outputId": "43f7be9b-a335-4896-8bcc-4a5227f1d878"
   },
   "outputs": [
    {
     "data": {
      "text/plain": [
       "array([False, False,  True, False,  True,  True])"
      ]
     },
     "execution_count": 9,
     "metadata": {},
     "output_type": "execute_result"
    }
   ],
   "source": [
    "a > 3"
   ]
  },
  {
   "cell_type": "code",
   "execution_count": 10,
   "metadata": {
    "colab": {
     "base_uri": "https://localhost:8080/"
    },
    "executionInfo": {
     "elapsed": 43,
     "status": "ok",
     "timestamp": 1626573546636,
     "user": {
      "displayName": "Julio Lau",
      "photoUrl": "https://lh3.googleusercontent.com/a-/AOh14GgCiPhI0rdNtVQNITYluHTI0kUk2eO-SRKB2NOgHQ=s64",
      "userId": "00048580349615221089"
     },
     "user_tz": 300
    },
    "id": "v_vjZ1suJfzz",
    "outputId": "671c560e-6095-4386-fc57-4f889739f118"
   },
   "outputs": [
    {
     "data": {
      "text/plain": [
       "array([108,   4,   5])"
      ]
     },
     "execution_count": 10,
     "metadata": {},
     "output_type": "execute_result"
    }
   ],
   "source": [
    "a[a>3]"
   ]
  },
  {
   "cell_type": "code",
   "execution_count": 11,
   "metadata": {
    "colab": {
     "base_uri": "https://localhost:8080/"
    },
    "executionInfo": {
     "elapsed": 41,
     "status": "ok",
     "timestamp": 1626573546639,
     "user": {
      "displayName": "Julio Lau",
      "photoUrl": "https://lh3.googleusercontent.com/a-/AOh14GgCiPhI0rdNtVQNITYluHTI0kUk2eO-SRKB2NOgHQ=s64",
      "userId": "00048580349615221089"
     },
     "user_tz": 300
    },
    "id": "YLDeD2QHJk2L",
    "outputId": "0d0336f5-1260-409c-f7d0-8eeec70b92ae"
   },
   "outputs": [
    {
     "data": {
      "text/plain": [
       "array([0, 1, 4, 3, 4, 4])"
      ]
     },
     "execution_count": 11,
     "metadata": {},
     "output_type": "execute_result"
    }
   ],
   "source": [
    "a[a>3] = 4\n",
    "a"
   ]
  },
  {
   "cell_type": "code",
   "execution_count": 12,
   "metadata": {
    "colab": {
     "base_uri": "https://localhost:8080/"
    },
    "executionInfo": {
     "elapsed": 35,
     "status": "ok",
     "timestamp": 1626573546640,
     "user": {
      "displayName": "Julio Lau",
      "photoUrl": "https://lh3.googleusercontent.com/a-/AOh14GgCiPhI0rdNtVQNITYluHTI0kUk2eO-SRKB2NOgHQ=s64",
      "userId": "00048580349615221089"
     },
     "user_tz": 300
    },
    "id": "no0NVr1AJvdG",
    "outputId": "1f2e68b4-4a64-49d8-c183-7d4069187e3e"
   },
   "outputs": [
    {
     "data": {
      "text/plain": [
       "array([0, 1, 2, 2, 2, 2])"
      ]
     },
     "execution_count": 12,
     "metadata": {},
     "output_type": "execute_result"
    }
   ],
   "source": [
    "a.clip(0, 2)"
   ]
  },
  {
   "cell_type": "markdown",
   "metadata": {
    "id": "MENhZNDmKGIl"
   },
   "source": [
    "## NaN in numpy"
   ]
  },
  {
   "cell_type": "code",
   "execution_count": 13,
   "metadata": {
    "colab": {
     "base_uri": "https://localhost:8080/"
    },
    "executionInfo": {
     "elapsed": 32,
     "status": "ok",
     "timestamp": 1626573546642,
     "user": {
      "displayName": "Julio Lau",
      "photoUrl": "https://lh3.googleusercontent.com/a-/AOh14GgCiPhI0rdNtVQNITYluHTI0kUk2eO-SRKB2NOgHQ=s64",
      "userId": "00048580349615221089"
     },
     "user_tz": 300
    },
    "id": "fmxE1319J__3",
    "outputId": "cacd1af8-f810-4868-a8b7-1de2c24078c1"
   },
   "outputs": [
    {
     "data": {
      "text/plain": [
       "array([False, False,  True, False, False])"
      ]
     },
     "execution_count": 13,
     "metadata": {},
     "output_type": "execute_result"
    }
   ],
   "source": [
    "c = np.array([1, 2, np.NAN, 3, 4])\n",
    "np.isnan(c)"
   ]
  },
  {
   "cell_type": "code",
   "execution_count": 14,
   "metadata": {
    "colab": {
     "base_uri": "https://localhost:8080/"
    },
    "executionInfo": {
     "elapsed": 29,
     "status": "ok",
     "timestamp": 1626573546643,
     "user": {
      "displayName": "Julio Lau",
      "photoUrl": "https://lh3.googleusercontent.com/a-/AOh14GgCiPhI0rdNtVQNITYluHTI0kUk2eO-SRKB2NOgHQ=s64",
      "userId": "00048580349615221089"
     },
     "user_tz": 300
    },
    "id": "ETNiurx7OmYC",
    "outputId": "9ea44d83-4219-483f-a733-8cf93597aa8e"
   },
   "outputs": [
    {
     "data": {
      "text/plain": [
       "array([1., 2., 3., 4.])"
      ]
     },
     "execution_count": 14,
     "metadata": {},
     "output_type": "execute_result"
    }
   ],
   "source": [
    "c[~np.isnan(c)]"
   ]
  },
  {
   "cell_type": "markdown",
   "metadata": {
    "id": "chxtg2nnQh-c"
   },
   "source": [
    "## Runtime comparison"
   ]
  },
  {
   "cell_type": "code",
   "execution_count": 15,
   "metadata": {
    "executionInfo": {
     "elapsed": 28,
     "status": "ok",
     "timestamp": 1626573546645,
     "user": {
      "displayName": "Julio Lau",
      "photoUrl": "https://lh3.googleusercontent.com/a-/AOh14GgCiPhI0rdNtVQNITYluHTI0kUk2eO-SRKB2NOgHQ=s64",
      "userId": "00048580349615221089"
     },
     "user_tz": 300
    },
    "id": "QThA_y-cOpep"
   },
   "outputs": [],
   "source": [
    "import timeit"
   ]
  },
  {
   "cell_type": "code",
   "execution_count": 16,
   "metadata": {
    "colab": {
     "base_uri": "https://localhost:8080/"
    },
    "executionInfo": {
     "elapsed": 3651,
     "status": "ok",
     "timestamp": 1626573550269,
     "user": {
      "displayName": "Julio Lau",
      "photoUrl": "https://lh3.googleusercontent.com/a-/AOh14GgCiPhI0rdNtVQNITYluHTI0kUk2eO-SRKB2NOgHQ=s64",
      "userId": "00048580349615221089"
     },
     "user_tz": 300
    },
    "id": "eQAFo2_8QoYM",
    "outputId": "22c9ad5d-a865-4565-d3f7-78e031d97486"
   },
   "outputs": [
    {
     "name": "stdout",
     "output_type": "stream",
     "text": [
      "Normal Python: 2.2519 sec\n",
      "Naive NumPy: 3.6451 sec\n",
      "Good NumPy: 0.029518 sec\n"
     ]
    }
   ],
   "source": [
    "normal_py_sec = timeit.timeit('sum(x*x for x in range(1000))', number=10000)\n",
    "naive_np_sec = timeit.timeit('sum(na*na)', setup=\"import numpy as np; na=np.arange(1000)\", number=10000)\n",
    "good_np_sec = timeit.timeit('na.dot(na)', setup=\"import numpy as np; na=np.arange(1000)\", number=10000)\n",
    "\n",
    "print(f\"Normal Python: {normal_py_sec:.5} sec\")\n",
    "print(f\"Naive NumPy: {naive_np_sec:.5} sec\")\n",
    "print(f\"Good NumPy: {good_np_sec:.5} sec\")"
   ]
  },
  {
   "cell_type": "markdown",
   "metadata": {
    "id": "p3bI4lXEta5p"
   },
   "source": [
    "## Reading files"
   ]
  },
  {
   "cell_type": "markdown",
   "metadata": {
    "id": "tOdCbUTruLH2"
   },
   "source": [
    "### Tab-separated"
   ]
  },
  {
   "cell_type": "code",
   "execution_count": 17,
   "metadata": {
    "colab": {
     "base_uri": "https://localhost:8080/"
    },
    "executionInfo": {
     "elapsed": 34,
     "status": "ok",
     "timestamp": 1626573550273,
     "user": {
      "displayName": "Julio Lau",
      "photoUrl": "https://lh3.googleusercontent.com/a-/AOh14GgCiPhI0rdNtVQNITYluHTI0kUk2eO-SRKB2NOgHQ=s64",
      "userId": "00048580349615221089"
     },
     "user_tz": 300
    },
    "id": "faexXdMmTOKZ",
    "outputId": "d7e4e4e1-dbaa-4f52-948d-d993cd1894fb"
   },
   "outputs": [
    {
     "data": {
      "text/plain": [
       "array([[1.000e+00, 2.272e+03],\n",
       "       [2.000e+00,       nan],\n",
       "       [3.000e+00, 1.386e+03],\n",
       "       ...,\n",
       "       [7.410e+02, 5.392e+03],\n",
       "       [7.420e+02, 5.906e+03],\n",
       "       [7.430e+02, 4.881e+03]])"
      ]
     },
     "execution_count": 17,
     "metadata": {},
     "output_type": "execute_result"
    }
   ],
   "source": [
    "#This file is from:\n",
    "#https://github.com/luispedro/BuildingMachineLearningSystemsWithPython/blob/master/ch01/data/web_traffic.tsv\n",
    "#Be careful, this method stores the file on your computer\n",
    "data = np.loadtxt(\"https://raw.githubusercontent.com/luispedro/BuildingMachineLearningSystemsWithPython/master/ch01/data/web_traffic.tsv\", delimiter=\"\\t\")\n",
    "data"
   ]
  }
 ],
 "metadata": {
  "colab": {
   "collapsed_sections": [],
   "name": "Intro_numpy.ipynb",
   "provenance": []
  },
  "kernelspec": {
   "display_name": "Python 3",
   "language": "python",
   "name": "python3"
  },
  "language_info": {
   "codemirror_mode": {
    "name": "ipython",
    "version": 3
   },
   "file_extension": ".py",
   "mimetype": "text/x-python",
   "name": "python",
   "nbconvert_exporter": "python",
   "pygments_lexer": "ipython3",
   "version": "3.8.5"
  }
 },
 "nbformat": 4,
 "nbformat_minor": 1
}
