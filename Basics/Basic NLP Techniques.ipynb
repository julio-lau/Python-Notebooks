{
 "cells": [
  {
   "cell_type": "code",
   "execution_count": 1,
   "metadata": {
    "executionInfo": {
     "elapsed": 2113,
     "status": "ok",
     "timestamp": 1631857500206,
     "user": {
      "displayName": "Julio Lau",
      "photoUrl": "https://lh3.googleusercontent.com/a-/AOh14GgCiPhI0rdNtVQNITYluHTI0kUk2eO-SRKB2NOgHQ=s64",
      "userId": "00048580349615221089"
     },
     "user_tz": 300
    },
    "id": "Q9wwSydYeK7U"
   },
   "outputs": [],
   "source": [
    "from sklearn.feature_extraction.text import CountVectorizer, TfidfVectorizer\n",
    "import nltk\n",
    "import nltk.stem\n",
    "import numpy as np\n",
    "import sys"
   ]
  },
  {
   "cell_type": "markdown",
   "metadata": {
    "id": "53UarDF43mx8"
   },
   "source": [
    "# Preprocessing"
   ]
  },
  {
   "cell_type": "markdown",
   "metadata": {
    "id": "KE_wEDES3sMw"
   },
   "source": [
    "## Bag of Words (BoW)"
   ]
  },
  {
   "cell_type": "code",
   "execution_count": 2,
   "metadata": {
    "executionInfo": {
     "elapsed": 48,
     "status": "ok",
     "timestamp": 1631857500207,
     "user": {
      "displayName": "Julio Lau",
      "photoUrl": "https://lh3.googleusercontent.com/a-/AOh14GgCiPhI0rdNtVQNITYluHTI0kUk2eO-SRKB2NOgHQ=s64",
      "userId": "00048580349615221089"
     },
     "user_tz": 300
    },
    "id": "P8QoWSXP3mJ9"
   },
   "outputs": [],
   "source": [
    "bow = CountVectorizer()\n",
    "data = ['This is a toy post about machine learning. Actually, it contains not much interesting stuff.', \n",
    "        'Imaging databases can get huge.',\n",
    "        'Most imaging databases safe images permanently.',\n",
    "        'Imaging databases store images.',\n",
    "        'Imaging databases store images. Imaging databases store images. Imaging databases store images.']"
   ]
  },
  {
   "cell_type": "markdown",
   "metadata": {
    "id": "761dGs9l5p3j"
   },
   "source": [
    "### Fit bag of word transformer"
   ]
  },
  {
   "cell_type": "code",
   "execution_count": 3,
   "metadata": {
    "colab": {
     "base_uri": "https://localhost:8080/"
    },
    "executionInfo": {
     "elapsed": 46,
     "status": "ok",
     "timestamp": 1631857500209,
     "user": {
      "displayName": "Julio Lau",
      "photoUrl": "https://lh3.googleusercontent.com/a-/AOh14GgCiPhI0rdNtVQNITYluHTI0kUk2eO-SRKB2NOgHQ=s64",
      "userId": "00048580349615221089"
     },
     "user_tz": 300
    },
    "id": "guWSXFM_5s5Z",
    "outputId": "9a17fa18-0d96-4e49-d519-841dc9851867"
   },
   "outputs": [
    {
     "data": {
      "text/plain": [
       "CountVectorizer()"
      ]
     },
     "execution_count": 3,
     "metadata": {},
     "output_type": "execute_result"
    }
   ],
   "source": [
    "bow.fit(data)"
   ]
  },
  {
   "cell_type": "markdown",
   "metadata": {
    "id": "oAIhaAnr5Yzb"
   },
   "source": [
    "### Get unique words list"
   ]
  },
  {
   "cell_type": "code",
   "execution_count": 4,
   "metadata": {
    "colab": {
     "base_uri": "https://localhost:8080/"
    },
    "executionInfo": {
     "elapsed": 36,
     "status": "ok",
     "timestamp": 1631857500212,
     "user": {
      "displayName": "Julio Lau",
      "photoUrl": "https://lh3.googleusercontent.com/a-/AOh14GgCiPhI0rdNtVQNITYluHTI0kUk2eO-SRKB2NOgHQ=s64",
      "userId": "00048580349615221089"
     },
     "user_tz": 300
    },
    "id": "7hoPbmMy5BWZ",
    "outputId": "8b1fead8-2521-4728-e710-2f87fa8d14c7"
   },
   "outputs": [
    {
     "name": "stdout",
     "output_type": "stream",
     "text": [
      "['about', 'actually', 'can', 'contains', 'databases', 'get', 'huge', 'images', 'imaging', 'interesting', 'is', 'it', 'learning', 'machine', 'most', 'much', 'not', 'permanently', 'post', 'safe', 'store', 'stuff', 'this', 'toy']\n"
     ]
    }
   ],
   "source": [
    "print(bow.get_feature_names())"
   ]
  },
  {
   "cell_type": "markdown",
   "metadata": {
    "id": "-F4VWouJ6BqI"
   },
   "source": [
    "### Transform data to bag of words representation"
   ]
  },
  {
   "cell_type": "code",
   "execution_count": 5,
   "metadata": {
    "colab": {
     "base_uri": "https://localhost:8080/"
    },
    "executionInfo": {
     "elapsed": 33,
     "status": "ok",
     "timestamp": 1631857500215,
     "user": {
      "displayName": "Julio Lau",
      "photoUrl": "https://lh3.googleusercontent.com/a-/AOh14GgCiPhI0rdNtVQNITYluHTI0kUk2eO-SRKB2NOgHQ=s64",
      "userId": "00048580349615221089"
     },
     "user_tz": 300
    },
    "id": "qI1Sbq2C6Ez3",
    "outputId": "6d046d42-efa0-401a-e466-b9f0565e494c"
   },
   "outputs": [
    {
     "data": {
      "text/plain": [
       "<5x24 sparse matrix of type '<class 'numpy.int64'>'\n",
       "\twith 33 stored elements in Compressed Sparse Row format>"
      ]
     },
     "execution_count": 5,
     "metadata": {},
     "output_type": "execute_result"
    }
   ],
   "source": [
    "dataBow = bow.transform(data)\n",
    "dataBow"
   ]
  },
  {
   "cell_type": "markdown",
   "metadata": {
    "id": "76iulELb5efv"
   },
   "source": [
    "### Array representation"
   ]
  },
  {
   "cell_type": "code",
   "execution_count": 6,
   "metadata": {
    "colab": {
     "base_uri": "https://localhost:8080/"
    },
    "executionInfo": {
     "elapsed": 30,
     "status": "ok",
     "timestamp": 1631857500217,
     "user": {
      "displayName": "Julio Lau",
      "photoUrl": "https://lh3.googleusercontent.com/a-/AOh14GgCiPhI0rdNtVQNITYluHTI0kUk2eO-SRKB2NOgHQ=s64",
      "userId": "00048580349615221089"
     },
     "user_tz": 300
    },
    "id": "infTNG_j4ssB",
    "outputId": "e3f7e520-aab8-4f06-ed64-f32d8fb2ab69"
   },
   "outputs": [
    {
     "data": {
      "text/plain": [
       "array([[1, 1, 0, 1, 0, 0, 0, 0, 0, 1, 1, 1, 1, 1, 0, 1, 1, 0, 1, 0, 0, 1,\n",
       "        1, 1],\n",
       "       [0, 0, 1, 0, 1, 1, 1, 0, 1, 0, 0, 0, 0, 0, 0, 0, 0, 0, 0, 0, 0, 0,\n",
       "        0, 0],\n",
       "       [0, 0, 0, 0, 1, 0, 0, 1, 1, 0, 0, 0, 0, 0, 1, 0, 0, 1, 0, 1, 0, 0,\n",
       "        0, 0],\n",
       "       [0, 0, 0, 0, 1, 0, 0, 1, 1, 0, 0, 0, 0, 0, 0, 0, 0, 0, 0, 0, 1, 0,\n",
       "        0, 0],\n",
       "       [0, 0, 0, 0, 3, 0, 0, 3, 3, 0, 0, 0, 0, 0, 0, 0, 0, 0, 0, 0, 3, 0,\n",
       "        0, 0]], dtype=int64)"
      ]
     },
     "execution_count": 6,
     "metadata": {},
     "output_type": "execute_result"
    }
   ],
   "source": [
    "dataBow.toarray()"
   ]
  },
  {
   "cell_type": "markdown",
   "metadata": {
    "id": "yeaekf0o70tV"
   },
   "source": [
    "## Stopwords + BoW"
   ]
  },
  {
   "cell_type": "code",
   "execution_count": 7,
   "metadata": {
    "colab": {
     "base_uri": "https://localhost:8080/"
    },
    "executionInfo": {
     "elapsed": 380,
     "status": "ok",
     "timestamp": 1631857500572,
     "user": {
      "displayName": "Julio Lau",
      "photoUrl": "https://lh3.googleusercontent.com/a-/AOh14GgCiPhI0rdNtVQNITYluHTI0kUk2eO-SRKB2NOgHQ=s64",
      "userId": "00048580349615221089"
     },
     "user_tz": 300
    },
    "id": "-GhMm_O678SE",
    "outputId": "bae38c88-dc60-47ae-dc12-965998919af7"
   },
   "outputs": [
    {
     "data": {
      "text/plain": [
       "['a',\n",
       " 'about',\n",
       " 'above',\n",
       " 'across',\n",
       " 'after',\n",
       " 'afterwards',\n",
       " 'again',\n",
       " 'against',\n",
       " 'all',\n",
       " 'almost',\n",
       " 'alone',\n",
       " 'along',\n",
       " 'already',\n",
       " 'also',\n",
       " 'although']"
      ]
     },
     "execution_count": 7,
     "metadata": {},
     "output_type": "execute_result"
    }
   ],
   "source": [
    "swBow = CountVectorizer(stop_words='english')\n",
    "swDataBow = swBow.fit_transform(data)\n",
    "sorted(swBow.get_stop_words())[:15]"
   ]
  },
  {
   "cell_type": "markdown",
   "metadata": {
    "id": "dJOE6gJi8dIu"
   },
   "source": [
    "## Stemming"
   ]
  },
  {
   "cell_type": "code",
   "execution_count": 8,
   "metadata": {
    "executionInfo": {
     "elapsed": 49,
     "status": "ok",
     "timestamp": 1631857500573,
     "user": {
      "displayName": "Julio Lau",
      "photoUrl": "https://lh3.googleusercontent.com/a-/AOh14GgCiPhI0rdNtVQNITYluHTI0kUk2eO-SRKB2NOgHQ=s64",
      "userId": "00048580349615221089"
     },
     "user_tz": 300
    },
    "id": "lm-a88308frA"
   },
   "outputs": [],
   "source": [
    "stemmer = nltk.stem.SnowballStemmer('english')"
   ]
  },
  {
   "cell_type": "code",
   "execution_count": 9,
   "metadata": {
    "colab": {
     "base_uri": "https://localhost:8080/"
    },
    "executionInfo": {
     "elapsed": 49,
     "status": "ok",
     "timestamp": 1631857500575,
     "user": {
      "displayName": "Julio Lau",
      "photoUrl": "https://lh3.googleusercontent.com/a-/AOh14GgCiPhI0rdNtVQNITYluHTI0kUk2eO-SRKB2NOgHQ=s64",
      "userId": "00048580349615221089"
     },
     "user_tz": 300
    },
    "id": "h_DZC_ql8umd",
    "outputId": "d8deac27-0fe2-41c5-f4ae-00aed363c0d8"
   },
   "outputs": [
    {
     "name": "stdout",
     "output_type": "stream",
     "text": [
      "Original Word: graphics, Stemmed Value: graphic\n",
      "Original Word: imaging, Stemmed Value: imag\n",
      "Original Word: eraser, Stemmed Value: eras\n",
      "Original Word: cake, Stemmed Value: cake\n"
     ]
    }
   ],
   "source": [
    "print(f'Original Word: graphics, Stemmed Value: ' + stemmer.stem('graphics'))\n",
    "print(f'Original Word: imaging, Stemmed Value: ' + stemmer.stem('imaging'))\n",
    "print(f'Original Word: eraser, Stemmed Value: ' + stemmer.stem('eraser'))\n",
    "print(f'Original Word: cake, Stemmed Value: ' + stemmer.stem('cake'))"
   ]
  },
  {
   "cell_type": "markdown",
   "metadata": {
    "id": "jm0HbhX19pSL"
   },
   "source": [
    "## BoW + Stemming"
   ]
  },
  {
   "cell_type": "code",
   "execution_count": 10,
   "metadata": {
    "executionInfo": {
     "elapsed": 46,
     "status": "ok",
     "timestamp": 1631857500578,
     "user": {
      "displayName": "Julio Lau",
      "photoUrl": "https://lh3.googleusercontent.com/a-/AOh14GgCiPhI0rdNtVQNITYluHTI0kUk2eO-SRKB2NOgHQ=s64",
      "userId": "00048580349615221089"
     },
     "user_tz": 300
    },
    "id": "YVw1-qTW9uKJ"
   },
   "outputs": [],
   "source": [
    "class StemmedCountVectorizer(CountVectorizer):\n",
    "    def build_analyzer(self):\n",
    "        analyzer = super(StemmedCountVectorizer, self).build_analyzer()\n",
    "        return lambda doc: (stemmer.stem(word) for word in analyzer(doc))\n",
    "\n",
    "stemmedBow = StemmedCountVectorizer(stop_words='english')\n",
    "stemmedDataBow = stemmedBow.fit_transform(data)"
   ]
  },
  {
   "cell_type": "markdown",
   "metadata": {
    "id": "ZA9Rgg4z-f2B"
   },
   "source": [
    "## Term frequency - Inverse document frecuency (TF-IDF) + Stemming"
   ]
  },
  {
   "cell_type": "code",
   "execution_count": 11,
   "metadata": {
    "executionInfo": {
     "elapsed": 47,
     "status": "ok",
     "timestamp": 1631857500581,
     "user": {
      "displayName": "Julio Lau",
      "photoUrl": "https://lh3.googleusercontent.com/a-/AOh14GgCiPhI0rdNtVQNITYluHTI0kUk2eO-SRKB2NOgHQ=s64",
      "userId": "00048580349615221089"
     },
     "user_tz": 300
    },
    "id": "BssLs0lD-m5u"
   },
   "outputs": [],
   "source": [
    "class StemmedTfidfVectorizer(TfidfVectorizer):\n",
    "    def build_analyzer(self):\n",
    "        analyzer = super(StemmedTfidfVectorizer, self).build_analyzer()\n",
    "        return lambda doc: (stemmer.stem(word) for word in analyzer(doc))\n",
    "\n",
    "stemmedTfidf = StemmedTfidfVectorizer(stop_words='english')\n",
    "stemmedDataTfidf = stemmedTfidf.fit_transform(data)"
   ]
  },
  {
   "cell_type": "markdown",
   "metadata": {
    "id": "olJ_neYD7aHT"
   },
   "source": [
    "# Distance measure - relatedness"
   ]
  },
  {
   "cell_type": "markdown",
   "metadata": {
    "id": "gdf17iX0A5Gr"
   },
   "source": [
    "## Similarity measure"
   ]
  },
  {
   "cell_type": "code",
   "execution_count": 12,
   "metadata": {
    "colab": {
     "base_uri": "https://localhost:8080/"
    },
    "executionInfo": {
     "elapsed": 54,
     "status": "ok",
     "timestamp": 1631857500589,
     "user": {
      "displayName": "Julio Lau",
      "photoUrl": "https://lh3.googleusercontent.com/a-/AOh14GgCiPhI0rdNtVQNITYluHTI0kUk2eO-SRKB2NOgHQ=s64",
      "userId": "00048580349615221089"
     },
     "user_tz": 300
    },
    "id": "DsfhrVtT6J-o",
    "outputId": "34385785-b88a-43fd-dbd3-38495afd4343"
   },
   "outputs": [],
   "source": [
    "def euclidianMeasure(v1, v2):\n",
    "    delta = v1 - v2\n",
    "    return np.linalg.norm(delta.toarray())\n",
    "\n",
    "def normalizedEuclidianMeasure(v1, v2):\n",
    "    normalizedV1 = v1 / np.linalg.norm(v1.toarray())\n",
    "    normalizedV2 = v2 / np.linalg.norm(v2.toarray())\n",
    "    delta = normalizedV1 - normalizedV2\n",
    "    return np.linalg.norm(delta.toarray())"
   ]
  },
  {
   "cell_type": "markdown",
   "metadata": {},
   "source": [
    "# Example"
   ]
  },
  {
   "cell_type": "code",
   "execution_count": 13,
   "metadata": {
    "executionInfo": {
     "elapsed": 48,
     "status": "ok",
     "timestamp": 1631857500583,
     "user": {
      "displayName": "Julio Lau",
      "photoUrl": "https://lh3.googleusercontent.com/a-/AOh14GgCiPhI0rdNtVQNITYluHTI0kUk2eO-SRKB2NOgHQ=s64",
      "userId": "00048580349615221089"
     },
     "user_tz": 300
    },
    "id": "4GXG75emBcrq"
   },
   "outputs": [],
   "source": [
    "def analyzeBestText(data, dataVectors, queryVector, measure):\n",
    "    bestText = None\n",
    "    bestDist = None\n",
    "    bestLoc = None\n",
    "    for i in range(len(data)):\n",
    "        textVector = dataVectors.getrow(i)\n",
    "        dist = measure(textVector, queryVector)\n",
    "        print(f'=== Post #{i} with dist = {dist:.2f}: {data[i]}')\n",
    "        if bestDist is None or bestDist > dist:\n",
    "            bestText = data[i]\n",
    "            bestDist = dist\n",
    "            bestLoc = i\n",
    "\n",
    "    print(f\"Best post is #{bestLoc} with dist ={bestDist: .2f}: {bestText}\")"
   ]
  },
  {
   "cell_type": "markdown",
   "metadata": {},
   "source": [
    "## BoW"
   ]
  },
  {
   "cell_type": "code",
   "execution_count": 14,
   "metadata": {
    "colab": {
     "base_uri": "https://localhost:8080/"
    },
    "executionInfo": {
     "elapsed": 49,
     "status": "ok",
     "timestamp": 1631857500590,
     "user": {
      "displayName": "Julio Lau",
      "photoUrl": "https://lh3.googleusercontent.com/a-/AOh14GgCiPhI0rdNtVQNITYluHTI0kUk2eO-SRKB2NOgHQ=s64",
      "userId": "00048580349615221089"
     },
     "user_tz": 300
    },
    "id": "T-L4GhA2Sfkj",
    "outputId": "1eb8a154-416f-498a-b114-2b1618167e94"
   },
   "outputs": [
    {
     "name": "stdout",
     "output_type": "stream",
     "text": [
      "=== Post #0 with dist = 1.41: This is a toy post about machine learning. Actually, it contains not much interesting stuff.\n",
      "=== Post #1 with dist = 0.86: Imaging databases can get huge.\n",
      "=== Post #2 with dist = 0.92: Most imaging databases safe images permanently.\n",
      "=== Post #3 with dist = 0.77: Imaging databases store images.\n",
      "=== Post #4 with dist = 0.77: Imaging databases store images. Imaging databases store images. Imaging databases store images.\n",
      "Best post is #3 with dist = 0.77: Imaging databases store images.\n",
      "=== Post #0 with dist = 4.00: This is a toy post about machine learning. Actually, it contains not much interesting stuff.\n",
      "=== Post #1 with dist = 1.73: Imaging databases can get huge.\n",
      "=== Post #2 with dist = 2.00: Most imaging databases safe images permanently.\n",
      "=== Post #3 with dist = 1.41: Imaging databases store images.\n",
      "=== Post #4 with dist = 5.10: Imaging databases store images. Imaging databases store images. Imaging databases store images.\n",
      "Best post is #3 with dist = 1.41: Imaging databases store images.\n"
     ]
    }
   ],
   "source": [
    "newText = 'imaging databases'\n",
    "newTextBow = bow.transform([newText])\n",
    "\n",
    "analyzeBestText(data, dataBow, newTextBow, normalizedEuclidianMeasure)\n",
    "analyzeBestText(data, dataBow, newTextBow, euclidianMeasure)"
   ]
  },
  {
   "cell_type": "markdown",
   "metadata": {},
   "source": [
    "## BoW + Stopwords"
   ]
  },
  {
   "cell_type": "code",
   "execution_count": 18,
   "metadata": {
    "colab": {
     "base_uri": "https://localhost:8080/"
    },
    "executionInfo": {
     "elapsed": 43,
     "status": "ok",
     "timestamp": 1631857500593,
     "user": {
      "displayName": "Julio Lau",
      "photoUrl": "https://lh3.googleusercontent.com/a-/AOh14GgCiPhI0rdNtVQNITYluHTI0kUk2eO-SRKB2NOgHQ=s64",
      "userId": "00048580349615221089"
     },
     "user_tz": 300
    },
    "id": "5dDAe0biXzQ6",
    "outputId": "2526492d-58ab-4b21-f441-1e62b4936b61"
   },
   "outputs": [
    {
     "name": "stdout",
     "output_type": "stream",
     "text": [
      "\n",
      "Normalized euclidian measure\n",
      "=== Post #0 with dist = 1.41: This is a toy post about machine learning. Actually, it contains not much interesting stuff.\n",
      "=== Post #1 with dist = 0.61: Imaging databases can get huge.\n",
      "=== Post #2 with dist = 0.86: Most imaging databases safe images permanently.\n",
      "=== Post #3 with dist = 0.77: Imaging databases store images.\n",
      "=== Post #4 with dist = 0.77: Imaging databases store images. Imaging databases store images. Imaging databases store images.\n",
      "Best post is #1 with dist = 0.61: Imaging databases can get huge.\n"
     ]
    }
   ],
   "source": [
    "swNewTextBow = swBow.transform([newText])\n",
    "print(\"\\nNormalized euclidian measure\")\n",
    "analyzeBestText(data, swDataBow, swNewTextBow, normalizedEuclidianMeasure)"
   ]
  },
  {
   "cell_type": "markdown",
   "metadata": {},
   "source": [
    "## Bow + Stemming"
   ]
  },
  {
   "cell_type": "code",
   "execution_count": 16,
   "metadata": {},
   "outputs": [
    {
     "name": "stdout",
     "output_type": "stream",
     "text": [
      "\n",
      "Normalized euclidian measure\n",
      "=== Post #0 with dist = 1.41: This is a toy post about machine learning. Actually, it contains not much interesting stuff.\n",
      "=== Post #1 with dist = 0.61: Imaging databases can get huge.\n",
      "=== Post #2 with dist = 0.63: Most imaging databases safe images permanently.\n",
      "=== Post #3 with dist = 0.52: Imaging databases store images.\n",
      "=== Post #4 with dist = 0.52: Imaging databases store images. Imaging databases store images. Imaging databases store images.\n",
      "Best post is #3 with dist = 0.52: Imaging databases store images.\n"
     ]
    }
   ],
   "source": [
    "stemmedNewTextBow = stemmedBow.transform([newText])\n",
    "print(\"\\nNormalized euclidian measure\")\n",
    "analyzeBestText(data, stemmedDataBow, stemmedNewTextBow, normalizedEuclidianMeasure)"
   ]
  },
  {
   "cell_type": "markdown",
   "metadata": {},
   "source": [
    "## Tfidf + Stemming"
   ]
  },
  {
   "cell_type": "code",
   "execution_count": 17,
   "metadata": {},
   "outputs": [
    {
     "name": "stdout",
     "output_type": "stream",
     "text": [
      "\n",
      "Normalized euclidian measure\n",
      "=== Post #0 with dist = 1.41: This is a toy post about machine learning. Actually, it contains not much interesting stuff.\n",
      "=== Post #1 with dist = 0.87: Imaging databases can get huge.\n",
      "=== Post #2 with dist = 0.86: Most imaging databases safe images permanently.\n",
      "=== Post #3 with dist = 0.63: Imaging databases store images.\n",
      "=== Post #4 with dist = 0.63: Imaging databases store images. Imaging databases store images. Imaging databases store images.\n",
      "Best post is #3 with dist = 0.63: Imaging databases store images.\n"
     ]
    }
   ],
   "source": [
    "stemmedNewTextTfidf = stemmedTfidf.transform([newText])\n",
    "print(\"\\nNormalized euclidian measure\")\n",
    "analyzeBestText(data, stemmedDataTfidf, stemmedNewTextTfidf, normalizedEuclidianMeasure)"
   ]
  }
 ],
 "metadata": {
  "colab": {
   "authorship_tag": "ABX9TyOxzAnQuvos7QfY5s2L/BZp",
   "name": "NLP Techniques.ipynb",
   "provenance": [],
   "toc_visible": true
  },
  "kernelspec": {
   "display_name": "Python 3",
   "language": "python",
   "name": "python3"
  },
  "language_info": {
   "codemirror_mode": {
    "name": "ipython",
    "version": 3
   },
   "file_extension": ".py",
   "mimetype": "text/x-python",
   "name": "python",
   "nbconvert_exporter": "python",
   "pygments_lexer": "ipython3",
   "version": "3.8.5"
  }
 },
 "nbformat": 4,
 "nbformat_minor": 1
}
